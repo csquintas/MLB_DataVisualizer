{
 "cells": [
  {
   "cell_type": "code",
   "execution_count": 1,
   "metadata": {},
   "outputs": [
    {
     "name": "stdout",
     "output_type": "stream",
     "text": [
      "Getting List of Games on 08/29/2022\n",
      "Matchups, Start Times, Probable Pitchers, and Weather will be added to a DataFrame\n",
      "Fetching Weather Data: This may take up to 30 seconds\n",
      "DataFrame of Games on 08/29/2022:                                            Game         Time  \\\n",
      "0         St. Louis Cardinals @ Cincinnati Reds  3:40 PM MST   \n",
      "1           Los Angeles Dodgers @ Miami Marlins  3:40 PM MST   \n",
      "2              Chicago Cubs @ Toronto Blue Jays  4:07 PM MST   \n",
      "3              Boston Red Sox @ Minnesota Twins  4:40 PM MST   \n",
      "4        Pittsburgh Pirates @ Milwaukee Brewers  5:10 PM MST   \n",
      "5         New York Yankees @ Los Angeles Angels  6:38 PM MST   \n",
      "6  Philadelphia Phillies @ Arizona Diamondbacks  6:40 PM MST   \n",
      "7       San Diego Padres @ San Francisco Giants  6:45 PM MST   \n",
      "\n",
      "        Home Pitcher    Away Pitcher                        Weather  \n",
      "0                      Miles Mikolas               Showers SE 2 mph  \n",
      "1        Pablo Lopez   Tony Gonsolin               Showers SE 2 mph  \n",
      "2       Jose Berrios    Javier Assad         Partly Cloudy SE 2 mph  \n",
      "3        Dylan Bundy    Brayan Bello  Humid, Partly Cloudy SE 3 mph  \n",
      "4      Corbin Burnes                            Light Rain SW 3 mph  \n",
      "5        Jose Suarez  Frankie Montas           Clear Skies SW 2 mph  \n",
      "6  Madison Bumgarner   Ranger Suarez            Clear Skies N 2 mph  \n",
      "7       Carlos Rodon  Mike Clevinger           Clear Skies SW 3 mph  \n"
     ]
    }
   ],
   "source": [
    "from GameDay import GameDay\n",
    "Game = GameDay() #create instance of class (runs __init__)\n",
    "Game_DF = Game.GameDay_Wrapper() #DataFrame of list of games for Today\n",
    " "
   ]
  },
  {
   "cell_type": "code",
   "execution_count": 3,
   "metadata": {},
   "outputs": [
    {
     "data": {
      "text/html": [
       "<div>\n",
       "<style scoped>\n",
       "    .dataframe tbody tr th:only-of-type {\n",
       "        vertical-align: middle;\n",
       "    }\n",
       "\n",
       "    .dataframe tbody tr th {\n",
       "        vertical-align: top;\n",
       "    }\n",
       "\n",
       "    .dataframe thead th {\n",
       "        text-align: right;\n",
       "    }\n",
       "</style>\n",
       "<table border=\"1\" class=\"dataframe\">\n",
       "  <thead>\n",
       "    <tr style=\"text-align: right;\">\n",
       "      <th></th>\n",
       "      <th>Game</th>\n",
       "      <th>Time</th>\n",
       "      <th>Home Pitcher</th>\n",
       "      <th>Away Pitcher</th>\n",
       "      <th>Weather</th>\n",
       "    </tr>\n",
       "  </thead>\n",
       "  <tbody>\n",
       "    <tr>\n",
       "      <th>0</th>\n",
       "      <td>St. Louis Cardinals @ Cincinnati Reds</td>\n",
       "      <td>3:40 PM MST</td>\n",
       "      <td></td>\n",
       "      <td>Miles Mikolas</td>\n",
       "      <td>Showers SE 2 mph</td>\n",
       "    </tr>\n",
       "    <tr>\n",
       "      <th>1</th>\n",
       "      <td>Los Angeles Dodgers @ Miami Marlins</td>\n",
       "      <td>3:40 PM MST</td>\n",
       "      <td>Pablo Lopez</td>\n",
       "      <td>Tony Gonsolin</td>\n",
       "      <td>Showers SE 2 mph</td>\n",
       "    </tr>\n",
       "    <tr>\n",
       "      <th>2</th>\n",
       "      <td>Chicago Cubs @ Toronto Blue Jays</td>\n",
       "      <td>4:07 PM MST</td>\n",
       "      <td>Jose Berrios</td>\n",
       "      <td>Javier Assad</td>\n",
       "      <td>Partly Cloudy SE 2 mph</td>\n",
       "    </tr>\n",
       "    <tr>\n",
       "      <th>3</th>\n",
       "      <td>Boston Red Sox @ Minnesota Twins</td>\n",
       "      <td>4:40 PM MST</td>\n",
       "      <td>Dylan Bundy</td>\n",
       "      <td>Brayan Bello</td>\n",
       "      <td>Humid, Partly Cloudy SE 3 mph</td>\n",
       "    </tr>\n",
       "    <tr>\n",
       "      <th>4</th>\n",
       "      <td>Pittsburgh Pirates @ Milwaukee Brewers</td>\n",
       "      <td>5:10 PM MST</td>\n",
       "      <td>Corbin Burnes</td>\n",
       "      <td></td>\n",
       "      <td>Light Rain SW 3 mph</td>\n",
       "    </tr>\n",
       "    <tr>\n",
       "      <th>5</th>\n",
       "      <td>New York Yankees @ Los Angeles Angels</td>\n",
       "      <td>6:38 PM MST</td>\n",
       "      <td>Jose Suarez</td>\n",
       "      <td>Frankie Montas</td>\n",
       "      <td>Clear Skies SW 2 mph</td>\n",
       "    </tr>\n",
       "    <tr>\n",
       "      <th>6</th>\n",
       "      <td>Philadelphia Phillies @ Arizona Diamondbacks</td>\n",
       "      <td>6:40 PM MST</td>\n",
       "      <td>Madison Bumgarner</td>\n",
       "      <td>Ranger Suarez</td>\n",
       "      <td>Clear Skies N 2 mph</td>\n",
       "    </tr>\n",
       "    <tr>\n",
       "      <th>7</th>\n",
       "      <td>San Diego Padres @ San Francisco Giants</td>\n",
       "      <td>6:45 PM MST</td>\n",
       "      <td>Carlos Rodon</td>\n",
       "      <td>Mike Clevinger</td>\n",
       "      <td>Clear Skies SW 3 mph</td>\n",
       "    </tr>\n",
       "  </tbody>\n",
       "</table>\n",
       "</div>"
      ],
      "text/plain": [
       "                                           Game         Time  \\\n",
       "0         St. Louis Cardinals @ Cincinnati Reds  3:40 PM MST   \n",
       "1           Los Angeles Dodgers @ Miami Marlins  3:40 PM MST   \n",
       "2              Chicago Cubs @ Toronto Blue Jays  4:07 PM MST   \n",
       "3              Boston Red Sox @ Minnesota Twins  4:40 PM MST   \n",
       "4        Pittsburgh Pirates @ Milwaukee Brewers  5:10 PM MST   \n",
       "5         New York Yankees @ Los Angeles Angels  6:38 PM MST   \n",
       "6  Philadelphia Phillies @ Arizona Diamondbacks  6:40 PM MST   \n",
       "7       San Diego Padres @ San Francisco Giants  6:45 PM MST   \n",
       "\n",
       "        Home Pitcher    Away Pitcher                        Weather  \n",
       "0                      Miles Mikolas               Showers SE 2 mph  \n",
       "1        Pablo Lopez   Tony Gonsolin               Showers SE 2 mph  \n",
       "2       Jose Berrios    Javier Assad         Partly Cloudy SE 2 mph  \n",
       "3        Dylan Bundy    Brayan Bello  Humid, Partly Cloudy SE 3 mph  \n",
       "4      Corbin Burnes                            Light Rain SW 3 mph  \n",
       "5        Jose Suarez  Frankie Montas           Clear Skies SW 2 mph  \n",
       "6  Madison Bumgarner   Ranger Suarez            Clear Skies N 2 mph  \n",
       "7       Carlos Rodon  Mike Clevinger           Clear Skies SW 3 mph  "
      ]
     },
     "execution_count": 3,
     "metadata": {},
     "output_type": "execute_result"
    }
   ],
   "source": [
    "from PitcherVsTeam import PitcherVsTeam\n",
    "Game_DF"
   ]
  },
  {
   "cell_type": "code",
   "execution_count": 4,
   "metadata": {},
   "outputs": [
    {
     "name": "stdout",
     "output_type": "stream",
     "text": [
      "Processing 0...\n",
      "Processing 1...\n",
      "Processing 2...\n",
      "Processing 3...\n",
      "Processing 4...\n",
      "Processing 5...\n",
      "Processing 6...\n",
      "Processing 7...\n"
     ]
    }
   ],
   "source": [
    "DF_list = PitcherVsTeam(Game_DF)"
   ]
  },
  {
   "cell_type": "code",
   "execution_count": 5,
   "metadata": {},
   "outputs": [
    {
     "data": {
      "text/plain": [
       "[('rodonca01',\n",
       "  'Carlos Rodon',\n",
       "  '607074',\n",
       "  'P',\n",
       "  'SP',\n",
       "  'NL',\n",
       "  'SF',\n",
       "  'L',\n",
       "  'L',\n",
       "  '33696',\n",
       "  'Carlos Rodon',\n",
       "  '12/10/92'),\n",
       " <pandas.io.formats.style.Styler at 0x10f1f3040>,\n",
       " <pandas.io.formats.style.Styler at 0x12375c2e0>]"
      ]
     },
     "execution_count": 5,
     "metadata": {},
     "output_type": "execute_result"
    }
   ],
   "source": [
    "DF_list"
   ]
  }
 ],
 "metadata": {
  "kernelspec": {
   "display_name": "Python 3.10.6 64-bit",
   "language": "python",
   "name": "python3"
  },
  "language_info": {
   "codemirror_mode": {
    "name": "ipython",
    "version": 3
   },
   "file_extension": ".py",
   "mimetype": "text/x-python",
   "name": "python",
   "nbconvert_exporter": "python",
   "pygments_lexer": "ipython3",
   "version": "3.10.6"
  },
  "orig_nbformat": 4,
  "vscode": {
   "interpreter": {
    "hash": "aee8b7b246df8f9039afb4144a1f6fd8d2ca17a180786b69acc140d282b71a49"
   }
  }
 },
 "nbformat": 4,
 "nbformat_minor": 2
}
